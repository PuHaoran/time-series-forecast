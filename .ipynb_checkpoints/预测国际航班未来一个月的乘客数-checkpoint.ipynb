{
 "cells": [
  {
   "cell_type": "code",
   "execution_count": 300,
   "metadata": {},
   "outputs": [],
   "source": [
    "import numpy as np\n",
    "import pandas as pd\n",
    "import matplotlib.pyplot as plt\n",
    "from pandas import read_csv\n",
    "import math\n",
    "from keras.models import Sequential\n",
    "from keras.layers import Dense\n",
    "from keras.layers import Activation\n",
    "from keras.layers import LSTM\n",
    "from sklearn.preprocessing import MinMaxScaler\n",
    "from sklearn.metrics import mean_squared_error\n",
    "%matplotlib inline"
   ]
  },
  {
   "cell_type": "code",
   "execution_count": 301,
   "metadata": {},
   "outputs": [],
   "source": [
    "# 加载数据\n",
    "data = pd.read_csv('./international-airline-passengers.csv', usecols=[1])"
   ]
  },
  {
   "cell_type": "code",
   "execution_count": 302,
   "metadata": {},
   "outputs": [
    {
     "data": {
      "text/plain": [
       "(144, 1)"
      ]
     },
     "execution_count": 302,
     "metadata": {},
     "output_type": "execute_result"
    }
   ],
   "source": [
    "data = data.values\n",
    "data = data.astype('float32')\n",
    "data.shape"
   ]
  },
  {
   "cell_type": "code",
   "execution_count": 303,
   "metadata": {},
   "outputs": [
    {
     "data": {
      "text/plain": [
       "[<matplotlib.lines.Line2D at 0x1a36a54ba8>]"
      ]
     },
     "execution_count": 303,
     "metadata": {},
     "output_type": "execute_result"
    },
    {
     "data": {
      "image/png": "[encoded data removed]",
      "text/plain": [
       "<Figure size 432x288 with 1 Axes>"
      ]
     },
     "metadata": {},
     "output_type": "display_data"
    }
   ],
   "source": [
    "# 12年，每年12个月数据，共144个数据\n",
    "plt.plot(data)"
   ]
  },
  {
   "cell_type": "markdown",
   "metadata": {},
   "source": [
    "# 数据预处理\n",
    "    "
   ]
  },
  {
   "cell_type": "code",
   "execution_count": 304,
   "metadata": {},
   "outputs": [],
   "source": [
    "def create_dataset(dataset, look_back=1):\n",
    "    \"\"\" look_back是预测下一步所需要的时间不长 \"\"\"\n",
    "    dataX, dataY = [], []\n",
    "    for i in range(len(dataset) - look_back):\n",
    "        a = dataset[i: (i + look_back)]\n",
    "        dataX.append(a)\n",
    "        dataY.append(dataset[i + look_back])\n",
    "    \n",
    "    return np.array(dataX), np.array(dataY)\n",
    "\n",
    "np.random.seed(7)"
   ]
  },
  {
   "cell_type": "code",
   "execution_count": 305,
   "metadata": {},
   "outputs": [],
   "source": [
    "# 正则化数据集\n",
    "scaler = MinMaxScaler(feature_range=(0, 1))\n",
    "data = scaler.fit_transform(data)\n",
    "\n",
    "# 划分测试集和验证集\n",
    "train_size = int(len(data) * 0.67)\n",
    "train, test = data[0:train_size], data[train_size:len(data)]"
   ]
  },
  {
   "cell_type": "code",
   "execution_count": 306,
   "metadata": {},
   "outputs": [],
   "source": [
    "#data"
   ]
  },
  {
   "cell_type": "code",
   "execution_count": 307,
   "metadata": {},
   "outputs": [],
   "source": [
    "look_back = 10\n",
    "trainX, trainY = create_dataset(train, look_back)\n",
    "testX, testY = create_dataset(test, look_back)"
   ]
  },
  {
   "cell_type": "code",
   "execution_count": 308,
   "metadata": {},
   "outputs": [
    {
     "name": "stdout",
     "output_type": "stream",
     "text": [
      "trainX.shape (86, 10, 1)\n",
      "trainY.shape (86, 1)\n"
     ]
    }
   ],
   "source": [
    "print('trainX.shape', trainX.shape)\n",
    "print('trainY.shape', trainY.shape)"
   ]
  },
  {
   "cell_type": "code",
   "execution_count": 309,
   "metadata": {},
   "outputs": [],
   "source": [
    "# LSTM的输入需要这样的结构 [samples, timesteps, features]\n",
    "trainX = np.reshape(trainX, (trainX.shape[0], trainX.shape[1], 1))\n",
    "testX = np.reshape(testX, (testX.shape[0], testX.shape[1], 1))"
   ]
  },
  {
   "cell_type": "code",
   "execution_count": 310,
   "metadata": {},
   "outputs": [
    {
     "data": {
      "text/plain": [
       "\"\\nmodel = Sequential()\\nmodel.add(LSTM(4))\\nmodel.add(Dense(1))\\nmodel.compile(loss='mean_squared_error', optimizer='adam')\\n\""
      ]
     },
     "execution_count": 310,
     "metadata": {},
     "output_type": "execute_result"
    }
   ],
   "source": [
    "# 建立LSTM模型\n",
    "\"\"\"\n",
    "model = Sequential()\n",
    "model.add(LSTM(4))\n",
    "model.add(Dense(1))\n",
    "model.compile(loss='mean_squared_error', optimizer='adam')\n",
    "\"\"\""
   ]
  },
  {
   "cell_type": "code",
   "execution_count": 311,
   "metadata": {},
   "outputs": [
    {
     "name": "stderr",
     "output_type": "stream",
     "text": [
      "/anaconda3/lib/python3.6/site-packages/ipykernel_launcher.py:2: UserWarning: The `input_dim` and `input_length` arguments in recurrent layers are deprecated. Use `input_shape` instead.\n",
      "  \n",
      "/anaconda3/lib/python3.6/site-packages/ipykernel_launcher.py:2: UserWarning: Update your `LSTM` call to the Keras 2 API: `LSTM(return_sequences=True, dropout=0.2, input_shape=(None, 1), units=50)`\n",
      "  \n",
      "/anaconda3/lib/python3.6/site-packages/ipykernel_launcher.py:4: UserWarning: Update your `Dense` call to the Keras 2 API: `Dense(units=1)`\n",
      "  after removing the cwd from sys.path.\n"
     ]
    }
   ],
   "source": [
    "model = Sequential()\n",
    "model.add(LSTM(input_dim=1, output_dim=50, return_sequences=True, dropout=0.2))\n",
    "model.add(LSTM(100, return_sequences=False, dropout=0.2))\n",
    "model.add(Dense(output_dim=1))\n",
    "model.add(Activation('linear'))\n",
    "model.compile(loss='mse', optimizer='rmsprop')"
   ]
  },
  {
   "cell_type": "code",
   "execution_count": 312,
   "metadata": {},
   "outputs": [
    {
     "name": "stdout",
     "output_type": "stream",
     "text": [
      "Epoch 1/100\n",
      " - 5s - loss: 0.0143\n",
      "Epoch 2/100\n",
      " - 2s - loss: 0.0142\n",
      "Epoch 3/100\n",
      " - 2s - loss: 0.0111\n",
      "Epoch 4/100\n",
      " - 2s - loss: 0.0151\n",
      "Epoch 5/100\n",
      " - 2s - loss: 0.0122\n",
      "Epoch 6/100\n",
      " - 2s - loss: 0.0166\n",
      "Epoch 7/100\n",
      " - 2s - loss: 0.0159\n",
      "Epoch 8/100\n",
      " - 2s - loss: 0.0117\n",
      "Epoch 9/100\n",
      " - 2s - loss: 0.0100\n",
      "Epoch 10/100\n",
      " - 2s - loss: 0.0123\n",
      "Epoch 11/100\n",
      " - 2s - loss: 0.0120\n",
      "Epoch 12/100\n",
      " - 2s - loss: 0.0123\n",
      "Epoch 13/100\n",
      " - 2s - loss: 0.0140\n",
      "Epoch 14/100\n",
      " - 2s - loss: 0.0098\n",
      "Epoch 15/100\n",
      " - 2s - loss: 0.0115\n",
      "Epoch 16/100\n",
      " - 2s - loss: 0.0083\n",
      "Epoch 17/100\n",
      " - 2s - loss: 0.0118\n",
      "Epoch 18/100\n",
      " - 2s - loss: 0.0130\n",
      "Epoch 19/100\n",
      " - 2s - loss: 0.0125\n",
      "Epoch 20/100\n",
      " - 2s - loss: 0.0078\n",
      "Epoch 21/100\n",
      " - 2s - loss: 0.0102\n",
      "Epoch 22/100\n",
      " - 2s - loss: 0.0078\n",
      "Epoch 23/100\n",
      " - 2s - loss: 0.0064\n",
      "Epoch 24/100\n",
      " - 2s - loss: 0.0068\n",
      "Epoch 25/100\n",
      " - 2s - loss: 0.0073\n",
      "Epoch 26/100\n",
      " - 2s - loss: 0.0104\n",
      "Epoch 27/100\n",
      " - 2s - loss: 0.0073\n",
      "Epoch 28/100\n",
      " - 2s - loss: 0.0094\n",
      "Epoch 29/100\n",
      " - 2s - loss: 0.0069\n",
      "Epoch 30/100\n",
      " - 2s - loss: 0.0067\n",
      "Epoch 31/100\n",
      " - 2s - loss: 0.0098\n",
      "Epoch 32/100\n",
      " - 2s - loss: 0.0070\n",
      "Epoch 33/100\n",
      " - 2s - loss: 0.0083\n",
      "Epoch 34/100\n",
      " - 2s - loss: 0.0084\n",
      "Epoch 35/100\n",
      " - 2s - loss: 0.0055\n",
      "Epoch 36/100\n",
      " - 2s - loss: 0.0094\n",
      "Epoch 37/100\n",
      " - 2s - loss: 0.0093\n",
      "Epoch 38/100\n",
      " - 2s - loss: 0.0067\n",
      "Epoch 39/100\n",
      " - 2s - loss: 0.0096\n",
      "Epoch 40/100\n",
      " - 2s - loss: 0.0072\n",
      "Epoch 41/100\n",
      " - 2s - loss: 0.0113\n",
      "Epoch 42/100\n",
      " - 2s - loss: 0.0062\n",
      "Epoch 43/100\n",
      " - 2s - loss: 0.0073\n",
      "Epoch 44/100\n",
      " - 2s - loss: 0.0078\n",
      "Epoch 45/100\n",
      " - 2s - loss: 0.0068\n",
      "Epoch 46/100\n",
      " - 2s - loss: 0.0056\n",
      "Epoch 47/100\n",
      " - 2s - loss: 0.0056\n",
      "Epoch 48/100\n",
      " - 2s - loss: 0.0061\n",
      "Epoch 49/100\n",
      " - 2s - loss: 0.0073\n",
      "Epoch 50/100\n",
      " - 2s - loss: 0.0042\n",
      "Epoch 51/100\n",
      " - 2s - loss: 0.0076\n",
      "Epoch 52/100\n",
      " - 2s - loss: 0.0045\n",
      "Epoch 53/100\n",
      " - 2s - loss: 0.0060\n",
      "Epoch 54/100\n",
      " - 2s - loss: 0.0050\n",
      "Epoch 55/100\n",
      " - 2s - loss: 0.0083\n",
      "Epoch 56/100\n",
      " - 2s - loss: 0.0071\n",
      "Epoch 57/100\n",
      " - 2s - loss: 0.0104\n",
      "Epoch 58/100\n",
      " - 2s - loss: 0.0044\n",
      "Epoch 59/100\n",
      " - 2s - loss: 0.0078\n",
      "Epoch 60/100\n",
      " - 2s - loss: 0.0104\n",
      "Epoch 61/100\n",
      " - 2s - loss: 0.0087\n",
      "Epoch 62/100\n",
      " - 2s - loss: 0.0073\n",
      "Epoch 63/100\n",
      " - 2s - loss: 0.0078\n",
      "Epoch 64/100\n",
      " - 2s - loss: 0.0072\n",
      "Epoch 65/100\n",
      " - 2s - loss: 0.0048\n",
      "Epoch 66/100\n",
      " - 2s - loss: 0.0084\n",
      "Epoch 67/100\n",
      " - 2s - loss: 0.0046\n",
      "Epoch 68/100\n",
      " - 2s - loss: 0.0070\n",
      "Epoch 69/100\n",
      " - 2s - loss: 0.0060\n",
      "Epoch 70/100\n",
      " - 2s - loss: 0.0084\n",
      "Epoch 71/100\n",
      " - 2s - loss: 0.0081\n",
      "Epoch 72/100\n",
      " - 2s - loss: 0.0076\n",
      "Epoch 73/100\n",
      " - 2s - loss: 0.0067\n",
      "Epoch 74/100\n",
      " - 2s - loss: 0.0053\n",
      "Epoch 75/100\n",
      " - 2s - loss: 0.0081\n",
      "Epoch 76/100\n",
      " - 2s - loss: 0.0049\n",
      "Epoch 77/100\n",
      " - 2s - loss: 0.0043\n",
      "Epoch 78/100\n",
      " - 2s - loss: 0.0094\n",
      "Epoch 79/100\n",
      " - 2s - loss: 0.0053\n",
      "Epoch 80/100\n",
      " - 2s - loss: 0.0059\n",
      "Epoch 81/100\n",
      " - 2s - loss: 0.0034\n",
      "Epoch 82/100\n",
      " - 2s - loss: 0.0084\n",
      "Epoch 83/100\n",
      " - 2s - loss: 0.0037\n",
      "Epoch 84/100\n",
      " - 2s - loss: 0.0062\n",
      "Epoch 85/100\n",
      " - 2s - loss: 0.0047\n",
      "Epoch 86/100\n",
      " - 2s - loss: 0.0065\n",
      "Epoch 87/100\n",
      " - 2s - loss: 0.0040\n",
      "Epoch 88/100\n",
      " - 2s - loss: 0.0041\n",
      "Epoch 89/100\n",
      " - 2s - loss: 0.0061\n",
      "Epoch 90/100\n",
      " - 2s - loss: 0.0053\n",
      "Epoch 91/100\n",
      " - 2s - loss: 0.0078\n",
      "Epoch 92/100\n",
      " - 2s - loss: 0.0034\n",
      "Epoch 93/100\n",
      " - 2s - loss: 0.0032\n",
      "Epoch 94/100\n",
      " - 2s - loss: 0.0037\n",
      "Epoch 95/100\n",
      " - 2s - loss: 0.0043\n",
      "Epoch 96/100\n",
      " - 2s - loss: 0.0034\n",
      "Epoch 97/100\n",
      " - 2s - loss: 0.0072\n",
      "Epoch 98/100\n",
      " - 2s - loss: 0.0073\n",
      "Epoch 99/100\n",
      " - 2s - loss: 0.0029\n",
      "Epoch 100/100\n",
      " - 2s - loss: 0.0053\n"
     ]
    },
    {
     "data": {
      "text/plain": [
       "<keras.callbacks.History at 0x1a36a7f8d0>"
      ]
     },
     "execution_count": 312,
     "metadata": {},
     "output_type": "execute_result"
    }
   ],
   "source": [
    "model.fit(trainX, trainY, epochs=100, batch_size=1, verbose=2)"
   ]
  },
  {
   "cell_type": "code",
   "execution_count": 313,
   "metadata": {},
   "outputs": [],
   "source": [
    "# 预测\n",
    "train_pred = model.predict(trainX)\n",
    "test_pred = model.predict(testX)"
   ]
  },
  {
   "cell_type": "code",
   "execution_count": 314,
   "metadata": {},
   "outputs": [
    {
     "data": {
      "text/plain": [
       "array([[0.        ],\n",
       "       [0.02702703],\n",
       "       [0.02123553],\n",
       "       [0.04247104],\n",
       "       [0.07142857],\n",
       "       [0.05984557],\n",
       "       [0.04054055],\n",
       "       [0.08687258],\n",
       "       [0.12741312],\n",
       "       [0.12741312],\n",
       "       [0.10424709],\n",
       "       [0.05598456],\n",
       "       [0.01930502],\n",
       "       [0.06949806],\n",
       "       [0.07915059],\n",
       "       [0.08880308],\n",
       "       [0.14285713],\n",
       "       [0.11389962],\n",
       "       [0.13127413],\n",
       "       [0.14285713],\n",
       "       [0.18339768],\n",
       "       [0.18339768],\n",
       "       [0.15444016],\n",
       "       [0.11196911],\n",
       "       [0.08108109],\n",
       "       [0.1196911 ],\n",
       "       [0.12934363],\n",
       "       [0.14671814],\n",
       "       [0.17181468],\n",
       "       [0.14864865],\n",
       "       [0.15250966],\n",
       "       [0.22007722],\n",
       "       [0.24324325],\n",
       "       [0.26640925],\n",
       "       [0.2027027 ],\n",
       "       [0.16795367],\n",
       "       [0.13127413],\n",
       "       [0.17374519],\n",
       "       [0.17760617],\n",
       "       [0.17760617],\n",
       "       [0.25482625],\n",
       "       [0.25289574],\n",
       "       [0.24131274],\n",
       "       [0.26833975],\n",
       "       [0.3088803 ],\n",
       "       [0.32432434],\n",
       "       [0.25675675],\n",
       "       [0.20656371],\n",
       "       [0.14671814],\n",
       "       [0.18725869],\n",
       "       [0.19305018],\n",
       "       [0.16216215],\n",
       "       [0.25289574],\n",
       "       [0.23745173],\n",
       "       [0.25096524],\n",
       "       [0.3088803 ],\n",
       "       [0.38223937],\n",
       "       [0.36486486],\n",
       "       [0.2992278 ],\n",
       "       [0.24131274],\n",
       "       [0.1911197 ],\n",
       "       [0.24131274],\n",
       "       [0.26640925],\n",
       "       [0.24903473],\n",
       "       [0.31467178],\n",
       "       [0.3185328 ],\n",
       "       [0.32046333],\n",
       "       [0.4073359 ],\n",
       "       [0.5019305 ],\n",
       "       [0.46911195],\n",
       "       [0.40154442],\n",
       "       [0.32818535],\n",
       "       [0.25675675],\n",
       "       [0.3359073 ],\n",
       "       [0.34749034],\n",
       "       [0.33397684],\n",
       "       [0.41119692],\n",
       "       [0.4034749 ],\n",
       "       [0.4131274 ],\n",
       "       [0.52123547],\n",
       "       [0.5965251 ],\n",
       "       [0.58108103],\n",
       "       [0.484556  ],\n",
       "       [0.3899614 ],\n",
       "       [0.3223938 ],\n",
       "       [0.3899614 ]], dtype=float32)"
      ]
     },
     "execution_count": 314,
     "metadata": {},
     "output_type": "execute_result"
    }
   ],
   "source": [
    "trainY"
   ]
  },
  {
   "cell_type": "code",
   "execution_count": 315,
   "metadata": {},
   "outputs": [],
   "source": [
    "# 转换数据为相同单位，计算误差\n",
    "train_pred = scaler.inverse_transform(train_pred)\n",
    "trainY = scaler.inverse_transform(trainY)\n",
    "test_pred = scaler.inverse_transform(test_pred)\n",
    "testY = scaler.inverse_transform(testY)"
   ]
  },
  {
   "cell_type": "code",
   "execution_count": 316,
   "metadata": {},
   "outputs": [
    {
     "name": "stdout",
     "output_type": "stream",
     "text": [
      "训练集分数 24.77 RMSE\n",
      "测试集分数 123.69 RMSE\n"
     ]
    }
   ],
   "source": [
    "# mse\n",
    "train_score = math.sqrt(mean_squared_error(trainY[:, 0], train_pred[:, 0]))\n",
    "print('训练集分数 %.2f RMSE' % (train_score))\n",
    "\n",
    "test_score = math.sqrt(mean_squared_error(testY[:, 0], test_pred[:]))\n",
    "print('测试集分数 %.2f RMSE' % (test_score))"
   ]
  },
  {
   "cell_type": "code",
   "execution_count": 317,
   "metadata": {},
   "outputs": [
    {
     "data": {
      "text/plain": [
       "[<matplotlib.lines.Line2D at 0x1a3841e2b0>]"
      ]
     },
     "execution_count": 317,
     "metadata": {},
     "output_type": "execute_result"
    },
    {
     "data": {
      "image/png": "[encoded data removed]",
      "text/plain": [
       "<Figure size 432x288 with 1 Axes>"
      ]
     },
     "metadata": {},
     "output_type": "display_data"
    }
   ],
   "source": [
    "# 画出结果\n",
    "# 蓝色为原数据，红色为预测数据\n",
    "plt.plot(testY)\n",
    "plt.plot(test_pred)"
   ]
  },
  {
   "cell_type": "code",
   "execution_count": 318,
   "metadata": {},
   "outputs": [
    {
     "data": {
      "text/plain": [
       "[<matplotlib.lines.Line2D at 0x1a38458128>]"
      ]
     },
     "execution_count": 318,
     "metadata": {},
     "output_type": "execute_result"
    },
    {
     "data": {
      "image/png": "[encoded data removed]",
      "text/plain": [
       "<Figure size 432x288 with 1 Axes>"
      ]
     },
     "metadata": {},
     "output_type": "display_data"
    }
   ],
   "source": [
    "plt.plot(trainY)\n",
    "plt.plot(train_pred)"
   ]
  },
  {
   "cell_type": "markdown",
   "metadata": {},
   "source": [
    "相关阅读：\n",
    "\n",
    "https://blog.csdn.net/ycheng_sjtu/article/details/48792467#commentBox"
   ]
  },
  {
   "cell_type": "code",
   "execution_count": null,
   "metadata": {},
   "outputs": [],
   "source": []
  }
 ],
 "metadata": {
  "kernelspec": {
   "display_name": "Python 3",
   "language": "python",
   "name": "python3"
  },
  "language_info": {
   "codemirror_mode": {
    "name": "ipython",
    "version": 3
   },
   "file_extension": ".py",
   "mimetype": "text/x-python",
   "name": "python",
   "nbconvert_exporter": "python",
   "pygments_lexer": "ipython3",
   "version": "3.6.8"
  }
 },
 "nbformat": 4,
 "nbformat_minor": 2
}
